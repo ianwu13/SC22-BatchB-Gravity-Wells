{
 "cells": [
  {
   "cell_type": "code",
   "execution_count": 88,
   "metadata": {
    "collapsed": false
   },
   "outputs": [
   ],
   "source": [
    "import pandas as pd\n",
    "import numpy as np\n",
    "import plotly.express as px"
   ]
  },
  {
   "cell_type": "code",
   "execution_count": 89,
   "metadata": {
    "collapsed": false
   },
   "outputs": [
   ],
   "source": [
    "df = pd.read_csv('~/Project/data/emissions_dataset.csv')\n"
   ]
  },
  {
   "cell_type": "code",
   "execution_count": 94,
   "metadata": {
    "collapsed": false
   },
   "outputs": [
    {
     "data": {
      "text/html": [
       "<div>\n",
       "<style scoped>\n",
       "    .dataframe tbody tr th:only-of-type {\n",
       "        vertical-align: middle;\n",
       "    }\n",
       "\n",
       "    .dataframe tbody tr th {\n",
       "        vertical-align: top;\n",
       "    }\n",
       "\n",
       "    .dataframe thead th {\n",
       "        text-align: right;\n",
       "    }\n",
       "</style>\n",
       "<table border=\"1\" class=\"dataframe\">\n",
       "  <thead>\n",
       "    <tr style=\"text-align: right;\">\n",
       "      <th></th>\n",
       "      <th>Greenhouse Gas Emissions</th>\n",
       "      <th>Country</th>\n",
       "      <th>Year</th>\n",
       "      <th>Hard Coal Production</th>\n",
       "      <th>Natural Gas Production</th>\n",
       "      <th>Crude Oil Production</th>\n",
       "      <th>Motor Gasoline Production</th>\n",
       "      <th>Gas Oil/Diesel Oil Production</th>\n",
       "      <th>Hard Coal Import</th>\n",
       "      <th>Natural Gas Import</th>\n",
       "      <th>Crude Oil Import</th>\n",
       "      <th>Motor Gasoline Import</th>\n",
       "      <th>Gas Oil/Diesel Oil Import</th>\n",
       "      <th>Hard Coal Export</th>\n",
       "      <th>Natural Gas Export</th>\n",
       "      <th>Crude Oil Export</th>\n",
       "      <th>Motor Gasoline Export</th>\n",
       "      <th>Gas Oil/Diesel Oil Export</th>\n",
       "    </tr>\n",
       "  </thead>\n",
       "  <tbody>\n",
       "    <tr>\n",
       "      <th>20</th>\n",
       "      <td>535549.224196</td>\n",
       "      <td>AUS</td>\n",
       "      <td>2010</td>\n",
       "      <td>338139.0</td>\n",
       "      <td>2069199.0</td>\n",
       "      <td>22028.0</td>\n",
       "      <td>12340.0</td>\n",
       "      <td>9836.0</td>\n",
       "      <td>52.0</td>\n",
       "      <td>177760.0</td>\n",
       "      <td>21145.0</td>\n",
       "      <td>2839.0</td>\n",
       "      <td>7315.0</td>\n",
       "      <td>292617.0</td>\n",
       "      <td>973333.0</td>\n",
       "      <td>13661.0</td>\n",
       "      <td>161.0</td>\n",
       "      <td>158.0</td>\n",
       "    </tr>\n",
       "    <tr>\n",
       "      <th>80</th>\n",
       "      <td>133633.523203</td>\n",
       "      <td>BEL</td>\n",
       "      <td>2010</td>\n",
       "      <td>NaN</td>\n",
       "      <td>NaN</td>\n",
       "      <td>NaN</td>\n",
       "      <td>4795.0</td>\n",
       "      <td>12535.0</td>\n",
       "      <td>6275.0</td>\n",
       "      <td>909253.0</td>\n",
       "      <td>33284.0</td>\n",
       "      <td>1034.0</td>\n",
       "      <td>7410.0</td>\n",
       "      <td>604.0</td>\n",
       "      <td>128123.0</td>\n",
       "      <td>NaN</td>\n",
       "      <td>4767.0</td>\n",
       "      <td>6594.0</td>\n",
       "    </tr>\n",
       "    <tr>\n",
       "      <th>170</th>\n",
       "      <td>702802.746934</td>\n",
       "      <td>CAN</td>\n",
       "      <td>2010</td>\n",
       "      <td>33703.0</td>\n",
       "      <td>6020842.0</td>\n",
       "      <td>108045.0</td>\n",
       "      <td>30667.0</td>\n",
       "      <td>30880.0</td>\n",
       "      <td>8822.0</td>\n",
       "      <td>871342.0</td>\n",
       "      <td>40239.0</td>\n",
       "      <td>3481.0</td>\n",
       "      <td>695.0</td>\n",
       "      <td>33302.0</td>\n",
       "      <td>3682104.0</td>\n",
       "      <td>78760.0</td>\n",
       "      <td>6383.0</td>\n",
       "      <td>6967.0</td>\n",
       "    </tr>\n",
       "    <tr>\n",
       "      <th>260</th>\n",
       "      <td>139605.899314</td>\n",
       "      <td>CZE</td>\n",
       "      <td>2010</td>\n",
       "      <td>11435.0</td>\n",
       "      <td>9382.0</td>\n",
       "      <td>176.0</td>\n",
       "      <td>1463.0</td>\n",
       "      <td>3277.0</td>\n",
       "      <td>2229.0</td>\n",
       "      <td>324541.0</td>\n",
       "      <td>7727.0</td>\n",
       "      <td>591.0</td>\n",
       "      <td>1249.0</td>\n",
       "      <td>6272.0</td>\n",
       "      <td>6063.0</td>\n",
       "      <td>20.0</td>\n",
       "      <td>253.0</td>\n",
       "      <td>715.0</td>\n",
       "    </tr>\n",
       "    <tr>\n",
       "      <th>290</th>\n",
       "      <td>941805.335781</td>\n",
       "      <td>DEU</td>\n",
       "      <td>2010</td>\n",
       "      <td>14108.0</td>\n",
       "      <td>516989.0</td>\n",
       "      <td>2486.0</td>\n",
       "      <td>20940.0</td>\n",
       "      <td>43310.0</td>\n",
       "      <td>45725.0</td>\n",
       "      <td>3665881.0</td>\n",
       "      <td>93268.0</td>\n",
       "      <td>2049.0</td>\n",
       "      <td>15684.0</td>\n",
       "      <td>253.0</td>\n",
       "      <td>798158.0</td>\n",
       "      <td>706.0</td>\n",
       "      <td>4885.0</td>\n",
       "      <td>6820.0</td>\n",
       "    </tr>\n",
       "  </tbody>\n",
       "</table>\n",
       "</div>"
      ],
      "text/plain": [
       "     Greenhouse Gas Emissions Country  Year  Hard Coal Production  \\\n",
       "20              535549.224196     AUS  2010              338139.0   \n",
       "80              133633.523203     BEL  2010                   NaN   \n",
       "170             702802.746934     CAN  2010               33703.0   \n",
       "260             139605.899314     CZE  2010               11435.0   \n",
       "290             941805.335781     DEU  2010               14108.0   \n",
       "\n",
       "     Natural Gas Production  Crude Oil Production  Motor Gasoline Production  \\\n",
       "20                2069199.0               22028.0                    12340.0   \n",
       "80                      NaN                   NaN                     4795.0   \n",
       "170               6020842.0              108045.0                    30667.0   \n",
       "260                  9382.0                 176.0                     1463.0   \n",
       "290                516989.0                2486.0                    20940.0   \n",
       "\n",
       "     Gas Oil/Diesel Oil Production  Hard Coal Import  Natural Gas Import  \\\n",
       "20                          9836.0              52.0            177760.0   \n",
       "80                         12535.0            6275.0            909253.0   \n",
       "170                        30880.0            8822.0            871342.0   \n",
       "260                         3277.0            2229.0            324541.0   \n",
       "290                        43310.0           45725.0           3665881.0   \n",
       "\n",
       "     Crude Oil Import  Motor Gasoline Import  Gas Oil/Diesel Oil Import  \\\n",
       "20            21145.0                 2839.0                     7315.0   \n",
       "80            33284.0                 1034.0                     7410.0   \n",
       "170           40239.0                 3481.0                      695.0   \n",
       "260            7727.0                  591.0                     1249.0   \n",
       "290           93268.0                 2049.0                    15684.0   \n",
       "\n",
       "     Hard Coal Export  Natural Gas Export  Crude Oil Export  \\\n",
       "20           292617.0            973333.0           13661.0   \n",
       "80              604.0            128123.0               NaN   \n",
       "170           33302.0           3682104.0           78760.0   \n",
       "260            6272.0              6063.0              20.0   \n",
       "290             253.0            798158.0             706.0   \n",
       "\n",
       "     Motor Gasoline Export  Gas Oil/Diesel Oil Export  \n",
       "20                   161.0                      158.0  \n",
       "80                  4767.0                     6594.0  \n",
       "170                 6383.0                     6967.0  \n",
       "260                  253.0                      715.0  \n",
       "290                 4885.0                     6820.0  "
      ]
     },
     "execution_count": 94,
     "metadata": {
     },
     "output_type": "execute_result"
    }
   ],
   "source": [
    "\n",
    "df = df[df[\"Year\"] == 2010]\n",
    "df = df[df['Greenhouse Gas Emissions'] >= 100000 ]\n",
    "df.head()"
   ]
  },
  {
   "cell_type": "code",
   "execution_count": 96,
   "metadata": {
    "collapsed": false
   },
   "outputs": [
    {
     "data": {
      "text/html": "<html>\n<head><meta charset=\"utf-8\" /></head>\n<body>\n    <div>            <script src=\"https://cdnjs.cloudflare.com/ajax/libs/mathjax/2.7.5/MathJax.js?config=TeX-AMS-MML_SVG\"></script><script type=\"text/javascript\">if (window.MathJax) {MathJax.Hub.Config({SVG: {font: \"STIX-Web\"}});}</script>                <script type=\"text/javascript\">window.PlotlyConfig = {MathJaxConfig: 'local'};</script>\n        <script src=\"https://cdn.plot.ly/plotly-2.9.0.min.js\"></script>                <div id=\"da63d917-d72d-4373-bf06-2bf420b3b256\" class=\"plotly-graph-div\" style=\"height:525px; width:100%;\"></div>            <script type=\"text/javascript\">                                    window.PLOTLYENV=window.PLOTLYENV || {};                                    if (document.getElementById(\"da63d917-d72d-4373-bf06-2bf420b3b256\")) {                    Plotly.newPlot(                        \"da63d917-d72d-4373-bf06-2bf420b3b256\",                        [{\"domain\":{\"x\":[0.0,1.0],\"y\":[0.0,1.0]},\"hole\":0.3,\"hovertemplate\":\"Country=%{label}<br>Greenhouse Gas Emissions=%{value}<extra></extra>\",\"labels\":[\"AUS\",\"BEL\",\"CAN\",\"CZE\",\"DEU\",\"ESP\",\"EU1\",\"FRA\",\"GBR\",\"GRC\",\"ITA\",\"JPN\",\"NLD\",\"POL\",\"ROU\",\"RUS\",\"TUR\",\"UKR\",\"USA\"],\"legendgroup\":\"\",\"name\":\"\",\"showlegend\":true,\"values\":[535549.224196195,133633.523202562,702802.746934378,139605.899313946,941805.335781226,357876.017784356,4779612.47241208,513461.778505387,608732.302173083,118500.037686487,516473.732558605,1300451.71302843,211675.15204759,413501.546936704,116143.753178736,2013432.44573952,399143.06169849,407123.68850817,6991106.34255402],\"type\":\"pie\"}],                        {\"template\":{\"data\":{\"bar\":[{\"error_x\":{\"color\":\"#2a3f5f\"},\"error_y\":{\"color\":\"#2a3f5f\"},\"marker\":{\"line\":{\"color\":\"#E5ECF6\",\"width\":0.5},\"pattern\":{\"fillmode\":\"overlay\",\"size\":10,\"solidity\":0.2}},\"type\":\"bar\"}],\"barpolar\":[{\"marker\":{\"line\":{\"color\":\"#E5ECF6\",\"width\":0.5},\"pattern\":{\"fillmode\":\"overlay\",\"size\":10,\"solidity\":0.2}},\"type\":\"barpolar\"}],\"carpet\":[{\"aaxis\":{\"endlinecolor\":\"#2a3f5f\",\"gridcolor\":\"white\",\"linecolor\":\"white\",\"minorgridcolor\":\"white\",\"startlinecolor\":\"#2a3f5f\"},\"baxis\":{\"endlinecolor\":\"#2a3f5f\",\"gridcolor\":\"white\",\"linecolor\":\"white\",\"minorgridcolor\":\"white\",\"startlinecolor\":\"#2a3f5f\"},\"type\":\"carpet\"}],\"choropleth\":[{\"colorbar\":{\"outlinewidth\":0,\"ticks\":\"\"},\"type\":\"choropleth\"}],\"contour\":[{\"colorbar\":{\"outlinewidth\":0,\"ticks\":\"\"},\"colorscale\":[[0.0,\"#0d0887\"],[0.1111111111111111,\"#46039f\"],[0.2222222222222222,\"#7201a8\"],[0.3333333333333333,\"#9c179e\"],[0.4444444444444444,\"#bd3786\"],[0.5555555555555556,\"#d8576b\"],[0.6666666666666666,\"#ed7953\"],[0.7777777777777778,\"#fb9f3a\"],[0.8888888888888888,\"#fdca26\"],[1.0,\"#f0f921\"]],\"type\":\"contour\"}],\"contourcarpet\":[{\"colorbar\":{\"outlinewidth\":0,\"ticks\":\"\"},\"type\":\"contourcarpet\"}],\"heatmap\":[{\"colorbar\":{\"outlinewidth\":0,\"ticks\":\"\"},\"colorscale\":[[0.0,\"#0d0887\"],[0.1111111111111111,\"#46039f\"],[0.2222222222222222,\"#7201a8\"],[0.3333333333333333,\"#9c179e\"],[0.4444444444444444,\"#bd3786\"],[0.5555555555555556,\"#d8576b\"],[0.6666666666666666,\"#ed7953\"],[0.7777777777777778,\"#fb9f3a\"],[0.8888888888888888,\"#fdca26\"],[1.0,\"#f0f921\"]],\"type\":\"heatmap\"}],\"heatmapgl\":[{\"colorbar\":{\"outlinewidth\":0,\"ticks\":\"\"},\"colorscale\":[[0.0,\"#0d0887\"],[0.1111111111111111,\"#46039f\"],[0.2222222222222222,\"#7201a8\"],[0.3333333333333333,\"#9c179e\"],[0.4444444444444444,\"#bd3786\"],[0.5555555555555556,\"#d8576b\"],[0.6666666666666666,\"#ed7953\"],[0.7777777777777778,\"#fb9f3a\"],[0.8888888888888888,\"#fdca26\"],[1.0,\"#f0f921\"]],\"type\":\"heatmapgl\"}],\"histogram\":[{\"marker\":{\"pattern\":{\"fillmode\":\"overlay\",\"size\":10,\"solidity\":0.2}},\"type\":\"histogram\"}],\"histogram2d\":[{\"colorbar\":{\"outlinewidth\":0,\"ticks\":\"\"},\"colorscale\":[[0.0,\"#0d0887\"],[0.1111111111111111,\"#46039f\"],[0.2222222222222222,\"#7201a8\"],[0.3333333333333333,\"#9c179e\"],[0.4444444444444444,\"#bd3786\"],[0.5555555555555556,\"#d8576b\"],[0.6666666666666666,\"#ed7953\"],[0.7777777777777778,\"#fb9f3a\"],[0.8888888888888888,\"#fdca26\"],[1.0,\"#f0f921\"]],\"type\":\"histogram2d\"}],\"histogram2dcontour\":[{\"colorbar\":{\"outlinewidth\":0,\"ticks\":\"\"},\"colorscale\":[[0.0,\"#0d0887\"],[0.1111111111111111,\"#46039f\"],[0.2222222222222222,\"#7201a8\"],[0.3333333333333333,\"#9c179e\"],[0.4444444444444444,\"#bd3786\"],[0.5555555555555556,\"#d8576b\"],[0.6666666666666666,\"#ed7953\"],[0.7777777777777778,\"#fb9f3a\"],[0.8888888888888888,\"#fdca26\"],[1.0,\"#f0f921\"]],\"type\":\"histogram2dcontour\"}],\"mesh3d\":[{\"colorbar\":{\"outlinewidth\":0,\"ticks\":\"\"},\"type\":\"mesh3d\"}],\"parcoords\":[{\"line\":{\"colorbar\":{\"outlinewidth\":0,\"ticks\":\"\"}},\"type\":\"parcoords\"}],\"pie\":[{\"automargin\":true,\"type\":\"pie\"}],\"scatter\":[{\"marker\":{\"colorbar\":{\"outlinewidth\":0,\"ticks\":\"\"}},\"type\":\"scatter\"}],\"scatter3d\":[{\"line\":{\"colorbar\":{\"outlinewidth\":0,\"ticks\":\"\"}},\"marker\":{\"colorbar\":{\"outlinewidth\":0,\"ticks\":\"\"}},\"type\":\"scatter3d\"}],\"scattercarpet\":[{\"marker\":{\"colorbar\":{\"outlinewidth\":0,\"ticks\":\"\"}},\"type\":\"scattercarpet\"}],\"scattergeo\":[{\"marker\":{\"colorbar\":{\"outlinewidth\":0,\"ticks\":\"\"}},\"type\":\"scattergeo\"}],\"scattergl\":[{\"marker\":{\"colorbar\":{\"outlinewidth\":0,\"ticks\":\"\"}},\"type\":\"scattergl\"}],\"scattermapbox\":[{\"marker\":{\"colorbar\":{\"outlinewidth\":0,\"ticks\":\"\"}},\"type\":\"scattermapbox\"}],\"scatterpolar\":[{\"marker\":{\"colorbar\":{\"outlinewidth\":0,\"ticks\":\"\"}},\"type\":\"scatterpolar\"}],\"scatterpolargl\":[{\"marker\":{\"colorbar\":{\"outlinewidth\":0,\"ticks\":\"\"}},\"type\":\"scatterpolargl\"}],\"scatterternary\":[{\"marker\":{\"colorbar\":{\"outlinewidth\":0,\"ticks\":\"\"}},\"type\":\"scatterternary\"}],\"surface\":[{\"colorbar\":{\"outlinewidth\":0,\"ticks\":\"\"},\"colorscale\":[[0.0,\"#0d0887\"],[0.1111111111111111,\"#46039f\"],[0.2222222222222222,\"#7201a8\"],[0.3333333333333333,\"#9c179e\"],[0.4444444444444444,\"#bd3786\"],[0.5555555555555556,\"#d8576b\"],[0.6666666666666666,\"#ed7953\"],[0.7777777777777778,\"#fb9f3a\"],[0.8888888888888888,\"#fdca26\"],[1.0,\"#f0f921\"]],\"type\":\"surface\"}],\"table\":[{\"cells\":{\"fill\":{\"color\":\"#EBF0F8\"},\"line\":{\"color\":\"white\"}},\"header\":{\"fill\":{\"color\":\"#C8D4E3\"},\"line\":{\"color\":\"white\"}},\"type\":\"table\"}]},\"layout\":{\"annotationdefaults\":{\"arrowcolor\":\"#2a3f5f\",\"arrowhead\":0,\"arrowwidth\":1},\"autotypenumbers\":\"strict\",\"coloraxis\":{\"colorbar\":{\"outlinewidth\":0,\"ticks\":\"\"}},\"colorscale\":{\"diverging\":[[0,\"#8e0152\"],[0.1,\"#c51b7d\"],[0.2,\"#de77ae\"],[0.3,\"#f1b6da\"],[0.4,\"#fde0ef\"],[0.5,\"#f7f7f7\"],[0.6,\"#e6f5d0\"],[0.7,\"#b8e186\"],[0.8,\"#7fbc41\"],[0.9,\"#4d9221\"],[1,\"#276419\"]],\"sequential\":[[0.0,\"#0d0887\"],[0.1111111111111111,\"#46039f\"],[0.2222222222222222,\"#7201a8\"],[0.3333333333333333,\"#9c179e\"],[0.4444444444444444,\"#bd3786\"],[0.5555555555555556,\"#d8576b\"],[0.6666666666666666,\"#ed7953\"],[0.7777777777777778,\"#fb9f3a\"],[0.8888888888888888,\"#fdca26\"],[1.0,\"#f0f921\"]],\"sequentialminus\":[[0.0,\"#0d0887\"],[0.1111111111111111,\"#46039f\"],[0.2222222222222222,\"#7201a8\"],[0.3333333333333333,\"#9c179e\"],[0.4444444444444444,\"#bd3786\"],[0.5555555555555556,\"#d8576b\"],[0.6666666666666666,\"#ed7953\"],[0.7777777777777778,\"#fb9f3a\"],[0.8888888888888888,\"#fdca26\"],[1.0,\"#f0f921\"]]},\"colorway\":[\"#636efa\",\"#EF553B\",\"#00cc96\",\"#ab63fa\",\"#FFA15A\",\"#19d3f3\",\"#FF6692\",\"#B6E880\",\"#FF97FF\",\"#FECB52\"],\"font\":{\"color\":\"#2a3f5f\"},\"geo\":{\"bgcolor\":\"white\",\"lakecolor\":\"white\",\"landcolor\":\"#E5ECF6\",\"showlakes\":true,\"showland\":true,\"subunitcolor\":\"white\"},\"hoverlabel\":{\"align\":\"left\"},\"hovermode\":\"closest\",\"mapbox\":{\"style\":\"light\"},\"paper_bgcolor\":\"white\",\"plot_bgcolor\":\"#E5ECF6\",\"polar\":{\"angularaxis\":{\"gridcolor\":\"white\",\"linecolor\":\"white\",\"ticks\":\"\"},\"bgcolor\":\"#E5ECF6\",\"radialaxis\":{\"gridcolor\":\"white\",\"linecolor\":\"white\",\"ticks\":\"\"}},\"scene\":{\"xaxis\":{\"backgroundcolor\":\"#E5ECF6\",\"gridcolor\":\"white\",\"gridwidth\":2,\"linecolor\":\"white\",\"showbackground\":true,\"ticks\":\"\",\"zerolinecolor\":\"white\"},\"yaxis\":{\"backgroundcolor\":\"#E5ECF6\",\"gridcolor\":\"white\",\"gridwidth\":2,\"linecolor\":\"white\",\"showbackground\":true,\"ticks\":\"\",\"zerolinecolor\":\"white\"},\"zaxis\":{\"backgroundcolor\":\"#E5ECF6\",\"gridcolor\":\"white\",\"gridwidth\":2,\"linecolor\":\"white\",\"showbackground\":true,\"ticks\":\"\",\"zerolinecolor\":\"white\"}},\"shapedefaults\":{\"line\":{\"color\":\"#2a3f5f\"}},\"ternary\":{\"aaxis\":{\"gridcolor\":\"white\",\"linecolor\":\"white\",\"ticks\":\"\"},\"baxis\":{\"gridcolor\":\"white\",\"linecolor\":\"white\",\"ticks\":\"\"},\"bgcolor\":\"#E5ECF6\",\"caxis\":{\"gridcolor\":\"white\",\"linecolor\":\"white\",\"ticks\":\"\"}},\"title\":{\"x\":0.05},\"xaxis\":{\"automargin\":true,\"gridcolor\":\"white\",\"linecolor\":\"white\",\"ticks\":\"\",\"title\":{\"standoff\":15},\"zerolinecolor\":\"white\",\"zerolinewidth\":2},\"yaxis\":{\"automargin\":true,\"gridcolor\":\"white\",\"linecolor\":\"white\",\"ticks\":\"\",\"title\":{\"standoff\":15},\"zerolinecolor\":\"white\",\"zerolinewidth\":2}}},\"legend\":{\"tracegroupgap\":0},\"title\":{\"text\":\"Share of Greenhouse Gas Emissions in the year 2010\"}},                        {\"responsive\": true}                    ).then(function(){\n                            \nvar gd = document.getElementById('da63d917-d72d-4373-bf06-2bf420b3b256');\nvar x = new MutationObserver(function (mutations, observer) {{\n        var display = window.getComputedStyle(gd).display;\n        if (!display || display === 'none') {{\n            console.log([gd, 'removed!']);\n            Plotly.purge(gd);\n            observer.disconnect();\n        }}\n}});\n\n// Listen for the removal of the full notebook cells\nvar notebookContainer = gd.closest('#notebook-container');\nif (notebookContainer) {{\n    x.observe(notebookContainer, {childList: true});\n}}\n\n// Listen for the clearing of the current output cell\nvar outputEl = gd.closest('.output');\nif (outputEl) {{\n    x.observe(outputEl, {childList: true});\n}}\n\n                        })                };                            </script>        </div>\n</body>\n</html>"
     },
     "execution_count": 96,
     "metadata": {
     },
     "output_type": "execute_result"
    }
   ],
   "source": [
    "fig = px.pie(df, values = \"Greenhouse Gas Emissions\", names = \"Country\", hole = .3, title = \"Share of Greenhouse Gas Emissions in the year 2010\")\n",
    "fig.show()\n",
    "fig.write_html('./data/Charts/GHG_pie_2010.html')"
   ]
  },
  {
   "cell_type": "code",
   "execution_count": 27,
   "metadata": {
    "collapsed": false
   },
   "outputs": [
    {
     "name": "stdout",
     "output_type": "stream",
     "text": [
      "<class 'pandas.core.frame.DataFrame'>\n",
      "RangeIndex: 1290 entries, 0 to 1289\n",
      "Data columns (total 18 columns):\n",
      " #   Column                         Non-Null Count  Dtype  \n",
      "---  ------                         --------------  -----  \n",
      " 0   Greenhouse Gas Emissions       1290 non-null   float64\n",
      " 1   Country                        1290 non-null   object \n",
      " 2   Year                           1290 non-null   int64  \n",
      " 3   Hard Coal Production           451 non-null    float64\n",
      " 4   Natural Gas Production         747 non-null    float64\n",
      " 5   Crude Oil Production           724 non-null    float64\n",
      " 6   Motor Gasoline Production      879 non-null    float64\n",
      " 7   Gas Oil/Diesel Oil Production  879 non-null    float64\n",
      " 8   Hard Coal Import               1015 non-null   float64\n",
      " 9   Natural Gas Import             921 non-null    float64\n",
      " 10  Crude Oil Import               883 non-null    float64\n",
      " 11  Motor Gasoline Import          1050 non-null   float64\n",
      " 12  Gas Oil/Diesel Oil Import      1059 non-null   float64\n",
      " 13  Hard Coal Export               661 non-null    float64\n",
      " 14  Natural Gas Export             480 non-null    float64\n",
      " 15  Crude Oil Export               546 non-null    float64\n",
      " 16  Motor Gasoline Export          930 non-null    float64\n",
      " 17  Gas Oil/Diesel Oil Export      966 non-null    float64\n",
      "dtypes: float64(16), int64(1), object(1)\n",
      "memory usage: 181.5+ KB\n"
     ]
    },
    {
     "data": {
      "text/plain": [
       "Greenhouse Gas Emissions          0.000000\n",
       "Country                           0.000000\n",
       "Year                              0.000000\n",
       "Hard Coal Production             65.038760\n",
       "Natural Gas Production           42.093023\n",
       "Crude Oil Production             43.875969\n",
       "Motor Gasoline Production        31.860465\n",
       "Gas Oil/Diesel Oil Production    31.860465\n",
       "Hard Coal Import                 21.317829\n",
       "Natural Gas Import               28.604651\n",
       "Crude Oil Import                 31.550388\n",
       "Motor Gasoline Import            18.604651\n",
       "Gas Oil/Diesel Oil Import        17.906977\n",
       "Hard Coal Export                 48.759690\n",
       "Natural Gas Export               62.790698\n",
       "Crude Oil Export                 57.674419\n",
       "Motor Gasoline Export            27.906977\n",
       "Gas Oil/Diesel Oil Export        25.116279\n",
       "dtype: float64"
      ]
     },
     "execution_count": 27,
     "metadata": {
     },
     "output_type": "execute_result"
    }
   ],
   "source": [
    "df.info()\n",
    "(df.isnull().sum() *100/len(df)).sum()/18)\n",
    "(df.isnull().sum()).sum()"
   ]
  },
  {
   "cell_type": "code",
   "execution_count": 28,
   "metadata": {
    "collapsed": false
   },
   "outputs": [
    {
     "data": {
      "text/html": [
       "<div>\n",
       "<style scoped>\n",
       "    .dataframe tbody tr th:only-of-type {\n",
       "        vertical-align: middle;\n",
       "    }\n",
       "\n",
       "    .dataframe tbody tr th {\n",
       "        vertical-align: top;\n",
       "    }\n",
       "\n",
       "    .dataframe thead th {\n",
       "        text-align: right;\n",
       "    }\n",
       "</style>\n",
       "<table border=\"1\" class=\"dataframe\">\n",
       "  <thead>\n",
       "    <tr style=\"text-align: right;\">\n",
       "      <th></th>\n",
       "      <th>Greenhouse Gas Emissions</th>\n",
       "      <th>Country</th>\n",
       "      <th>Year</th>\n",
       "      <th>Natural Gas Production</th>\n",
       "      <th>Crude Oil Production</th>\n",
       "      <th>Motor Gasoline Production</th>\n",
       "      <th>Gas Oil/Diesel Oil Production</th>\n",
       "      <th>Hard Coal Import</th>\n",
       "      <th>Natural Gas Import</th>\n",
       "      <th>Crude Oil Import</th>\n",
       "      <th>Motor Gasoline Import</th>\n",
       "      <th>Gas Oil/Diesel Oil Import</th>\n",
       "      <th>Hard Coal Export</th>\n",
       "      <th>Motor Gasoline Export</th>\n",
       "      <th>Gas Oil/Diesel Oil Export</th>\n",
       "    </tr>\n",
       "  </thead>\n",
       "  <tbody>\n",
       "    <tr>\n",
       "      <th>0</th>\n",
       "      <td>423672.224546</td>\n",
       "      <td>AUS</td>\n",
       "      <td>1990</td>\n",
       "      <td>797340.0</td>\n",
       "      <td>25465.0</td>\n",
       "      <td>11969.0</td>\n",
       "      <td>8700.0</td>\n",
       "      <td>NaN</td>\n",
       "      <td>NaN</td>\n",
       "      <td>6039.0</td>\n",
       "      <td>1166.0</td>\n",
       "      <td>871.0</td>\n",
       "      <td>103396.0</td>\n",
       "      <td>153.0</td>\n",
       "      <td>619.0</td>\n",
       "    </tr>\n",
       "    <tr>\n",
       "      <th>1</th>\n",
       "      <td>423733.063876</td>\n",
       "      <td>AUS</td>\n",
       "      <td>1991</td>\n",
       "      <td>829256.0</td>\n",
       "      <td>25432.0</td>\n",
       "      <td>12098.0</td>\n",
       "      <td>8702.0</td>\n",
       "      <td>NaN</td>\n",
       "      <td>NaN</td>\n",
       "      <td>6427.0</td>\n",
       "      <td>426.0</td>\n",
       "      <td>390.0</td>\n",
       "      <td>120183.0</td>\n",
       "      <td>231.0</td>\n",
       "      <td>748.0</td>\n",
       "    </tr>\n",
       "    <tr>\n",
       "      <th>2</th>\n",
       "      <td>427426.084255</td>\n",
       "      <td>AUS</td>\n",
       "      <td>1992</td>\n",
       "      <td>902611.0</td>\n",
       "      <td>22311.0</td>\n",
       "      <td>12640.0</td>\n",
       "      <td>8794.0</td>\n",
       "      <td>NaN</td>\n",
       "      <td>NaN</td>\n",
       "      <td>7980.0</td>\n",
       "      <td>149.0</td>\n",
       "      <td>329.0</td>\n",
       "      <td>126242.0</td>\n",
       "      <td>507.0</td>\n",
       "      <td>702.0</td>\n",
       "    </tr>\n",
       "    <tr>\n",
       "      <th>3</th>\n",
       "      <td>428337.072227</td>\n",
       "      <td>AUS</td>\n",
       "      <td>1993</td>\n",
       "      <td>970864.0</td>\n",
       "      <td>21836.0</td>\n",
       "      <td>13020.0</td>\n",
       "      <td>9311.0</td>\n",
       "      <td>NaN</td>\n",
       "      <td>NaN</td>\n",
       "      <td>10445.0</td>\n",
       "      <td>282.0</td>\n",
       "      <td>567.0</td>\n",
       "      <td>131752.0</td>\n",
       "      <td>496.0</td>\n",
       "      <td>557.0</td>\n",
       "    </tr>\n",
       "    <tr>\n",
       "      <th>4</th>\n",
       "      <td>428818.220667</td>\n",
       "      <td>AUS</td>\n",
       "      <td>1994</td>\n",
       "      <td>1046133.0</td>\n",
       "      <td>20262.0</td>\n",
       "      <td>13023.0</td>\n",
       "      <td>9748.0</td>\n",
       "      <td>NaN</td>\n",
       "      <td>NaN</td>\n",
       "      <td>12726.0</td>\n",
       "      <td>297.0</td>\n",
       "      <td>644.0</td>\n",
       "      <td>131201.0</td>\n",
       "      <td>653.0</td>\n",
       "      <td>682.0</td>\n",
       "    </tr>\n",
       "  </tbody>\n",
       "</table>\n",
       "</div>"
      ],
      "text/plain": [
       "   Greenhouse Gas Emissions Country  Year  Natural Gas Production  \\\n",
       "0             423672.224546     AUS  1990                797340.0   \n",
       "1             423733.063876     AUS  1991                829256.0   \n",
       "2             427426.084255     AUS  1992                902611.0   \n",
       "3             428337.072227     AUS  1993                970864.0   \n",
       "4             428818.220667     AUS  1994               1046133.0   \n",
       "\n",
       "   Crude Oil Production  Motor Gasoline Production  \\\n",
       "0               25465.0                    11969.0   \n",
       "1               25432.0                    12098.0   \n",
       "2               22311.0                    12640.0   \n",
       "3               21836.0                    13020.0   \n",
       "4               20262.0                    13023.0   \n",
       "\n",
       "   Gas Oil/Diesel Oil Production  Hard Coal Import  Natural Gas Import  \\\n",
       "0                         8700.0               NaN                 NaN   \n",
       "1                         8702.0               NaN                 NaN   \n",
       "2                         8794.0               NaN                 NaN   \n",
       "3                         9311.0               NaN                 NaN   \n",
       "4                         9748.0               NaN                 NaN   \n",
       "\n",
       "   Crude Oil Import  Motor Gasoline Import  Gas Oil/Diesel Oil Import  \\\n",
       "0            6039.0                 1166.0                      871.0   \n",
       "1            6427.0                  426.0                      390.0   \n",
       "2            7980.0                  149.0                      329.0   \n",
       "3           10445.0                  282.0                      567.0   \n",
       "4           12726.0                  297.0                      644.0   \n",
       "\n",
       "   Hard Coal Export  Motor Gasoline Export  Gas Oil/Diesel Oil Export  \n",
       "0          103396.0                  153.0                      619.0  \n",
       "1          120183.0                  231.0                      748.0  \n",
       "2          126242.0                  507.0                      702.0  \n",
       "3          131752.0                  496.0                      557.0  \n",
       "4          131201.0                  653.0                      682.0  "
      ]
     },
     "execution_count": 28,
     "metadata": {
     },
     "output_type": "execute_result"
    }
   ],
   "source": [
    "columns_to_drop = [\"Hard Coal Production\", \"Crude Oil Export\", \"Natural Gas Export\"]\n",
    "df.drop(columns_to_drop, axis = 1, inplace = True)\n",
    "df.head()"
   ]
  },
  {
   "cell_type": "code",
   "execution_count": 39,
   "metadata": {
    "collapsed": false
   },
   "outputs": [
    {
     "name": "stdout",
     "output_type": "stream",
     "text": [
      "<class 'pandas.core.frame.DataFrame'>\n",
      "Int64Index: 30 entries, 0 to 29\n",
      "Data columns (total 18 columns):\n",
      " #   Column                         Non-Null Count  Dtype  \n",
      "---  ------                         --------------  -----  \n",
      " 0   Greenhouse Gas Emissions       30 non-null     float64\n",
      " 1   Country                        30 non-null     object \n",
      " 2   Year                           30 non-null     int64  \n",
      " 3   Hard Coal Production           30 non-null     float64\n",
      " 4   Natural Gas Production         30 non-null     float64\n",
      " 5   Crude Oil Production           30 non-null     float64\n",
      " 6   Motor Gasoline Production      30 non-null     float64\n",
      " 7   Gas Oil/Diesel Oil Production  30 non-null     float64\n",
      " 8   Hard Coal Import               10 non-null     float64\n",
      " 9   Natural Gas Import             15 non-null     float64\n",
      " 10  Crude Oil Import               30 non-null     float64\n",
      " 11  Motor Gasoline Import          30 non-null     float64\n",
      " 12  Gas Oil/Diesel Oil Import      30 non-null     float64\n",
      " 13  Hard Coal Export               30 non-null     float64\n",
      " 14  Natural Gas Export             30 non-null     float64\n",
      " 15  Crude Oil Export               30 non-null     float64\n",
      " 16  Motor Gasoline Export          30 non-null     float64\n",
      " 17  Gas Oil/Diesel Oil Export      30 non-null     float64\n",
      "dtypes: float64(16), int64(1), object(1)\n",
      "memory usage: 4.5+ KB\n"
     ]
    }
   ],
   "source": [
    "df = df[df['Country'] == \"AUS\"]\n",
    "df.info()"
   ]
  },
  {
   "cell_type": "code",
   "execution_count": 40,
   "metadata": {
    "collapsed": false
   },
   "outputs": [
    {
     "data": {
      "text/html": "<html>\n<head><meta charset=\"utf-8\" /></head>\n<body>\n    <div>            <script src=\"https://cdnjs.cloudflare.com/ajax/libs/mathjax/2.7.5/MathJax.js?config=TeX-AMS-MML_SVG\"></script><script type=\"text/javascript\">if (window.MathJax) {MathJax.Hub.Config({SVG: {font: \"STIX-Web\"}});}</script>                <script type=\"text/javascript\">window.PlotlyConfig = {MathJaxConfig: 'local'};</script>\n        <script src=\"https://cdn.plot.ly/plotly-2.9.0.min.js\"></script>                <div id=\"878ea3a0-4fc7-4600-af19-58b670078edb\" class=\"plotly-graph-div\" style=\"height:650px; width:650px;\"></div>            <script type=\"text/javascript\">                                    window.PLOTLYENV=window.PLOTLYENV || {};                                    if (document.getElementById(\"878ea3a0-4fc7-4600-af19-58b670078edb\")) {                    Plotly.newPlot(                        \"878ea3a0-4fc7-4600-af19-58b670078edb\",                        [{\"coloraxis\":\"coloraxis\",\"name\":\"0\",\"x\":[\"Greenhouse Gas Emissions\",\"Year\",\"Hard Coal Production\",\"Natural Gas Production\",\"Crude Oil Production\",\"Motor Gasoline Production\",\"Gas Oil/Diesel Oil Production\",\"Hard Coal Import\",\"Natural Gas Import\",\"Crude Oil Import\",\"Motor Gasoline Import\",\"Gas Oil/Diesel Oil Import\",\"Hard Coal Export\",\"Natural Gas Export\",\"Crude Oil Export\",\"Motor Gasoline Export\",\"Gas Oil/Diesel Oil Export\"],\"y\":[\"Greenhouse Gas Emissions\",\"Year\",\"Hard Coal Production\",\"Natural Gas Production\",\"Crude Oil Production\",\"Motor Gasoline Production\",\"Gas Oil/Diesel Oil Production\",\"Hard Coal Import\",\"Natural Gas Import\",\"Crude Oil Import\",\"Motor Gasoline Import\",\"Gas Oil/Diesel Oil Import\",\"Hard Coal Export\",\"Natural Gas Export\",\"Crude Oil Export\",\"Motor Gasoline Export\",\"Gas Oil/Diesel Oil Export\"],\"z\":[[1.0,0.9416988836797991,0.8675851735496998,0.7020713730821586,-0.42911422103686253,-0.5285845510047024,-0.12837480471741503,0.3771036303483979,0.5163049684115659,0.7211249940232493,0.8454350990530691,0.7713756538817256,0.8770636049985866,0.6291724009294694,0.5030772655551085,-0.4363144256298426,-0.6919379173869517],[0.9416988836797991,1.0,0.9779801675946108,0.8625110569826223,-0.6322074516599667,-0.7364374568706746,-0.3061789189651006,0.38370016297588205,0.665746415170393,0.6096100147966571,0.9195502227786406,0.9258004629953026,0.9818541159038239,0.8021422573505168,0.3454065528947,-0.5761883403449382,-0.7855702852612897],[0.8675851735496998,0.9779801675946108,1.0,0.8803421052050716,-0.6735165027129054,-0.8192134090674673,-0.391413162587797,0.12799379884809883,0.6502513419257069,0.5090068067466369,0.9197239082277282,0.9567292562745227,0.9979159672363471,0.8245250063168924,0.26906605891625235,-0.6463365993095707,-0.8099613763934354],[0.7020713730821586,0.8625110569826223,0.8803421052050716,1.0,-0.7411035194877783,-0.8877549081627849,-0.5952050183488237,0.5147569805391866,0.4320415866294532,0.263267214131241,0.870811448443364,0.9456672769823264,0.8755806597303941,0.993017838790447,0.07928424353739179,-0.5612697510169712,-0.6840521830440005],[-0.42911422103686253,-0.6322074516599667,-0.6735165027129054,-0.7411035194877783,1.0,0.7023561216206903,0.516079003479623,-0.2711658684119293,-0.4027665752104709,-0.16071475227198428,-0.6597763039180744,-0.7737218306710367,-0.6786936265980112,-0.741245158622353,0.34732638500035,0.415703049453147,0.5466527024805758],[-0.5285845510047024,-0.7364374568706746,-0.8192134090674673,-0.8877549081627849,0.7023561216206903,1.0,0.7724829911338733,-0.2521543685827884,-0.46880024025280015,0.019080010821215312,-0.8519965154798046,-0.914680018252815,-0.8124553081906757,-0.8861923238996797,0.10056552196611646,0.7149028823436013,0.7076547766523594],[-0.12837480471741503,-0.3061789189651006,-0.391413162587797,-0.5952050183488237,0.516079003479623,0.7724829911338733,1.0,-0.1639736185845941,-0.26845860265299715,0.500194380001799,-0.5576987048922797,-0.5904638299504321,-0.3844759447125066,-0.6441311664572205,0.4815774581329806,0.6212540770835192,0.5510476750354931],[0.3771036303483979,0.38370016297588205,0.12799379884809883,0.5147569805391866,-0.2711658684119293,-0.2521543685827884,-0.1639736185845941,1.0,-0.21751309584887857,0.006933799008041385,0.07064984458852569,0.3189586979091362,0.12174325193341094,0.5070391877657063,-0.04626882022014675,0.3150866805900856,-0.04337821078548645],[0.5163049684115659,0.665746415170393,0.6502513419257069,0.4320415866294532,-0.4027665752104709,-0.46880024025280015,-0.26845860265299715,-0.21751309584887857,1.0,0.010533309896698873,0.36113907661034766,0.5824252251070483,0.6308707860344513,0.38538780558289093,0.2289273902446483,-0.756032590029339,-0.6476623784544836],[0.7211249940232493,0.6096100147966571,0.5090068067466369,0.263267214131241,-0.16071475227198428,0.019080010821215312,0.500194380001799,0.006933799008041385,0.010533309896698873,1.0,0.30869408680359833,0.3023327775003162,0.5122250412179891,0.17519599732150848,0.720748726837507,0.0743229755603411,-0.23426638712728368],[0.8454350990530691,0.9195502227786406,0.9197239082277282,0.870811448443364,-0.6597763039180744,-0.8519965154798046,-0.5576987048922797,0.07064984458852569,0.36113907661034766,0.30869408680359833,1.0,0.9445090951759967,0.9279188955077932,0.833330314414,0.10814206193697484,-0.6850930534895613,-0.8077625206553488],[0.7713756538817256,0.9258004629953026,0.9567292562745227,0.9456672769823264,-0.7737218306710367,-0.914680018252815,-0.5904638299504321,0.3189586979091362,0.5824252251070483,0.3023327775003162,0.9445090951759967,1.0,0.9555335908110396,0.9159332087592778,0.0458366695817841,-0.7228621029929618,-0.8298219471157374],[0.8770636049985866,0.9818541159038239,0.9979159672363471,0.8755806597303941,-0.6786936265980112,-0.8124553081906757,-0.3844759447125066,0.12174325193341094,0.6308707860344513,0.5122250412179891,0.9279188955077932,0.9555335908110396,1.0,0.8188117282473366,0.2627043594391417,-0.6363633114584557,-0.8077722239570005],[0.6291724009294694,0.8021422573505168,0.8245250063168924,0.993017838790447,-0.741245158622353,-0.8861923238996797,-0.6441311664572205,0.5070391877657063,0.38538780558289093,0.17519599732150848,0.833330314414,0.9159332087592778,0.8188117282473366,1.0,0.01026539004717536,-0.5378371982073321,-0.6418051965290182],[0.5030772655551085,0.3454065528947,0.26906605891625235,0.07928424353739179,0.34732638500035,0.10056552196611646,0.4815774581329806,-0.04626882022014675,0.2289273902446483,0.720748726837507,0.10814206193697484,0.0458366695817841,0.2627043594391417,0.01026539004717536,1.0,0.20799429510714515,0.030709892553451225],[-0.4363144256298426,-0.5761883403449382,-0.6463365993095707,-0.5612697510169712,0.415703049453147,0.7149028823436013,0.6212540770835192,0.3150866805900856,-0.756032590029339,0.0743229755603411,-0.6850930534895613,-0.7228621029929618,-0.6363633114584557,-0.5378371982073321,0.20799429510714515,1.0,0.8869511085845696],[-0.6919379173869517,-0.7855702852612897,-0.8099613763934354,-0.6840521830440005,0.5466527024805758,0.7076547766523594,0.5510476750354931,-0.04337821078548645,-0.6476623784544836,-0.23426638712728368,-0.8077625206553488,-0.8298219471157374,-0.8077722239570005,-0.6418051965290182,0.030709892553451225,0.8869511085845696,1.0]],\"type\":\"heatmap\",\"xaxis\":\"x\",\"yaxis\":\"y\",\"hovertemplate\":\"x: %{x}<br>y: %{y}<br>color: %{z}<extra></extra>\"}],                        {\"template\":{\"data\":{\"bar\":[{\"error_x\":{\"color\":\"#2a3f5f\"},\"error_y\":{\"color\":\"#2a3f5f\"},\"marker\":{\"line\":{\"color\":\"#E5ECF6\",\"width\":0.5},\"pattern\":{\"fillmode\":\"overlay\",\"size\":10,\"solidity\":0.2}},\"type\":\"bar\"}],\"barpolar\":[{\"marker\":{\"line\":{\"color\":\"#E5ECF6\",\"width\":0.5},\"pattern\":{\"fillmode\":\"overlay\",\"size\":10,\"solidity\":0.2}},\"type\":\"barpolar\"}],\"carpet\":[{\"aaxis\":{\"endlinecolor\":\"#2a3f5f\",\"gridcolor\":\"white\",\"linecolor\":\"white\",\"minorgridcolor\":\"white\",\"startlinecolor\":\"#2a3f5f\"},\"baxis\":{\"endlinecolor\":\"#2a3f5f\",\"gridcolor\":\"white\",\"linecolor\":\"white\",\"minorgridcolor\":\"white\",\"startlinecolor\":\"#2a3f5f\"},\"type\":\"carpet\"}],\"choropleth\":[{\"colorbar\":{\"outlinewidth\":0,\"ticks\":\"\"},\"type\":\"choropleth\"}],\"contour\":[{\"colorbar\":{\"outlinewidth\":0,\"ticks\":\"\"},\"colorscale\":[[0.0,\"#0d0887\"],[0.1111111111111111,\"#46039f\"],[0.2222222222222222,\"#7201a8\"],[0.3333333333333333,\"#9c179e\"],[0.4444444444444444,\"#bd3786\"],[0.5555555555555556,\"#d8576b\"],[0.6666666666666666,\"#ed7953\"],[0.7777777777777778,\"#fb9f3a\"],[0.8888888888888888,\"#fdca26\"],[1.0,\"#f0f921\"]],\"type\":\"contour\"}],\"contourcarpet\":[{\"colorbar\":{\"outlinewidth\":0,\"ticks\":\"\"},\"type\":\"contourcarpet\"}],\"heatmap\":[{\"colorbar\":{\"outlinewidth\":0,\"ticks\":\"\"},\"colorscale\":[[0.0,\"#0d0887\"],[0.1111111111111111,\"#46039f\"],[0.2222222222222222,\"#7201a8\"],[0.3333333333333333,\"#9c179e\"],[0.4444444444444444,\"#bd3786\"],[0.5555555555555556,\"#d8576b\"],[0.6666666666666666,\"#ed7953\"],[0.7777777777777778,\"#fb9f3a\"],[0.8888888888888888,\"#fdca26\"],[1.0,\"#f0f921\"]],\"type\":\"heatmap\"}],\"heatmapgl\":[{\"colorbar\":{\"outlinewidth\":0,\"ticks\":\"\"},\"colorscale\":[[0.0,\"#0d0887\"],[0.1111111111111111,\"#46039f\"],[0.2222222222222222,\"#7201a8\"],[0.3333333333333333,\"#9c179e\"],[0.4444444444444444,\"#bd3786\"],[0.5555555555555556,\"#d8576b\"],[0.6666666666666666,\"#ed7953\"],[0.7777777777777778,\"#fb9f3a\"],[0.8888888888888888,\"#fdca26\"],[1.0,\"#f0f921\"]],\"type\":\"heatmapgl\"}],\"histogram\":[{\"marker\":{\"pattern\":{\"fillmode\":\"overlay\",\"size\":10,\"solidity\":0.2}},\"type\":\"histogram\"}],\"histogram2d\":[{\"colorbar\":{\"outlinewidth\":0,\"ticks\":\"\"},\"colorscale\":[[0.0,\"#0d0887\"],[0.1111111111111111,\"#46039f\"],[0.2222222222222222,\"#7201a8\"],[0.3333333333333333,\"#9c179e\"],[0.4444444444444444,\"#bd3786\"],[0.5555555555555556,\"#d8576b\"],[0.6666666666666666,\"#ed7953\"],[0.7777777777777778,\"#fb9f3a\"],[0.8888888888888888,\"#fdca26\"],[1.0,\"#f0f921\"]],\"type\":\"histogram2d\"}],\"histogram2dcontour\":[{\"colorbar\":{\"outlinewidth\":0,\"ticks\":\"\"},\"colorscale\":[[0.0,\"#0d0887\"],[0.1111111111111111,\"#46039f\"],[0.2222222222222222,\"#7201a8\"],[0.3333333333333333,\"#9c179e\"],[0.4444444444444444,\"#bd3786\"],[0.5555555555555556,\"#d8576b\"],[0.6666666666666666,\"#ed7953\"],[0.7777777777777778,\"#fb9f3a\"],[0.8888888888888888,\"#fdca26\"],[1.0,\"#f0f921\"]],\"type\":\"histogram2dcontour\"}],\"mesh3d\":[{\"colorbar\":{\"outlinewidth\":0,\"ticks\":\"\"},\"type\":\"mesh3d\"}],\"parcoords\":[{\"line\":{\"colorbar\":{\"outlinewidth\":0,\"ticks\":\"\"}},\"type\":\"parcoords\"}],\"pie\":[{\"automargin\":true,\"type\":\"pie\"}],\"scatter\":[{\"marker\":{\"colorbar\":{\"outlinewidth\":0,\"ticks\":\"\"}},\"type\":\"scatter\"}],\"scatter3d\":[{\"line\":{\"colorbar\":{\"outlinewidth\":0,\"ticks\":\"\"}},\"marker\":{\"colorbar\":{\"outlinewidth\":0,\"ticks\":\"\"}},\"type\":\"scatter3d\"}],\"scattercarpet\":[{\"marker\":{\"colorbar\":{\"outlinewidth\":0,\"ticks\":\"\"}},\"type\":\"scattercarpet\"}],\"scattergeo\":[{\"marker\":{\"colorbar\":{\"outlinewidth\":0,\"ticks\":\"\"}},\"type\":\"scattergeo\"}],\"scattergl\":[{\"marker\":{\"colorbar\":{\"outlinewidth\":0,\"ticks\":\"\"}},\"type\":\"scattergl\"}],\"scattermapbox\":[{\"marker\":{\"colorbar\":{\"outlinewidth\":0,\"ticks\":\"\"}},\"type\":\"scattermapbox\"}],\"scatterpolar\":[{\"marker\":{\"colorbar\":{\"outlinewidth\":0,\"ticks\":\"\"}},\"type\":\"scatterpolar\"}],\"scatterpolargl\":[{\"marker\":{\"colorbar\":{\"outlinewidth\":0,\"ticks\":\"\"}},\"type\":\"scatterpolargl\"}],\"scatterternary\":[{\"marker\":{\"colorbar\":{\"outlinewidth\":0,\"ticks\":\"\"}},\"type\":\"scatterternary\"}],\"surface\":[{\"colorbar\":{\"outlinewidth\":0,\"ticks\":\"\"},\"colorscale\":[[0.0,\"#0d0887\"],[0.1111111111111111,\"#46039f\"],[0.2222222222222222,\"#7201a8\"],[0.3333333333333333,\"#9c179e\"],[0.4444444444444444,\"#bd3786\"],[0.5555555555555556,\"#d8576b\"],[0.6666666666666666,\"#ed7953\"],[0.7777777777777778,\"#fb9f3a\"],[0.8888888888888888,\"#fdca26\"],[1.0,\"#f0f921\"]],\"type\":\"surface\"}],\"table\":[{\"cells\":{\"fill\":{\"color\":\"#EBF0F8\"},\"line\":{\"color\":\"white\"}},\"header\":{\"fill\":{\"color\":\"#C8D4E3\"},\"line\":{\"color\":\"white\"}},\"type\":\"table\"}]},\"layout\":{\"annotationdefaults\":{\"arrowcolor\":\"#2a3f5f\",\"arrowhead\":0,\"arrowwidth\":1},\"autotypenumbers\":\"strict\",\"coloraxis\":{\"colorbar\":{\"outlinewidth\":0,\"ticks\":\"\"}},\"colorscale\":{\"diverging\":[[0,\"#8e0152\"],[0.1,\"#c51b7d\"],[0.2,\"#de77ae\"],[0.3,\"#f1b6da\"],[0.4,\"#fde0ef\"],[0.5,\"#f7f7f7\"],[0.6,\"#e6f5d0\"],[0.7,\"#b8e186\"],[0.8,\"#7fbc41\"],[0.9,\"#4d9221\"],[1,\"#276419\"]],\"sequential\":[[0.0,\"#0d0887\"],[0.1111111111111111,\"#46039f\"],[0.2222222222222222,\"#7201a8\"],[0.3333333333333333,\"#9c179e\"],[0.4444444444444444,\"#bd3786\"],[0.5555555555555556,\"#d8576b\"],[0.6666666666666666,\"#ed7953\"],[0.7777777777777778,\"#fb9f3a\"],[0.8888888888888888,\"#fdca26\"],[1.0,\"#f0f921\"]],\"sequentialminus\":[[0.0,\"#0d0887\"],[0.1111111111111111,\"#46039f\"],[0.2222222222222222,\"#7201a8\"],[0.3333333333333333,\"#9c179e\"],[0.4444444444444444,\"#bd3786\"],[0.5555555555555556,\"#d8576b\"],[0.6666666666666666,\"#ed7953\"],[0.7777777777777778,\"#fb9f3a\"],[0.8888888888888888,\"#fdca26\"],[1.0,\"#f0f921\"]]},\"colorway\":[\"#636efa\",\"#EF553B\",\"#00cc96\",\"#ab63fa\",\"#FFA15A\",\"#19d3f3\",\"#FF6692\",\"#B6E880\",\"#FF97FF\",\"#FECB52\"],\"font\":{\"color\":\"#2a3f5f\"},\"geo\":{\"bgcolor\":\"white\",\"lakecolor\":\"white\",\"landcolor\":\"#E5ECF6\",\"showlakes\":true,\"showland\":true,\"subunitcolor\":\"white\"},\"hoverlabel\":{\"align\":\"left\"},\"hovermode\":\"closest\",\"mapbox\":{\"style\":\"light\"},\"paper_bgcolor\":\"white\",\"plot_bgcolor\":\"#E5ECF6\",\"polar\":{\"angularaxis\":{\"gridcolor\":\"white\",\"linecolor\":\"white\",\"ticks\":\"\"},\"bgcolor\":\"#E5ECF6\",\"radialaxis\":{\"gridcolor\":\"white\",\"linecolor\":\"white\",\"ticks\":\"\"}},\"scene\":{\"xaxis\":{\"backgroundcolor\":\"#E5ECF6\",\"gridcolor\":\"white\",\"gridwidth\":2,\"linecolor\":\"white\",\"showbackground\":true,\"ticks\":\"\",\"zerolinecolor\":\"white\"},\"yaxis\":{\"backgroundcolor\":\"#E5ECF6\",\"gridcolor\":\"white\",\"gridwidth\":2,\"linecolor\":\"white\",\"showbackground\":true,\"ticks\":\"\",\"zerolinecolor\":\"white\"},\"zaxis\":{\"backgroundcolor\":\"#E5ECF6\",\"gridcolor\":\"white\",\"gridwidth\":2,\"linecolor\":\"white\",\"showbackground\":true,\"ticks\":\"\",\"zerolinecolor\":\"white\"}},\"shapedefaults\":{\"line\":{\"color\":\"#2a3f5f\"}},\"ternary\":{\"aaxis\":{\"gridcolor\":\"white\",\"linecolor\":\"white\",\"ticks\":\"\"},\"baxis\":{\"gridcolor\":\"white\",\"linecolor\":\"white\",\"ticks\":\"\"},\"bgcolor\":\"#E5ECF6\",\"caxis\":{\"gridcolor\":\"white\",\"linecolor\":\"white\",\"ticks\":\"\"}},\"title\":{\"x\":0.05},\"xaxis\":{\"automargin\":true,\"gridcolor\":\"white\",\"linecolor\":\"white\",\"ticks\":\"\",\"title\":{\"standoff\":15},\"zerolinecolor\":\"white\",\"zerolinewidth\":2},\"yaxis\":{\"automargin\":true,\"gridcolor\":\"white\",\"linecolor\":\"white\",\"ticks\":\"\",\"title\":{\"standoff\":15},\"zerolinecolor\":\"white\",\"zerolinewidth\":2}}},\"xaxis\":{\"anchor\":\"y\",\"domain\":[0.0,1.0],\"scaleanchor\":\"y\",\"constrain\":\"domain\",\"tickangle\":-45},\"yaxis\":{\"anchor\":\"x\",\"domain\":[0.0,1.0],\"autorange\":\"reversed\",\"constrain\":\"domain\"},\"coloraxis\":{\"colorscale\":[[0.0,\"#0d0887\"],[0.1111111111111111,\"#46039f\"],[0.2222222222222222,\"#7201a8\"],[0.3333333333333333,\"#9c179e\"],[0.4444444444444444,\"#bd3786\"],[0.5555555555555556,\"#d8576b\"],[0.6666666666666666,\"#ed7953\"],[0.7777777777777778,\"#fb9f3a\"],[0.8888888888888888,\"#fdca26\"],[1.0,\"#f0f921\"]]},\"title\":{\"text\":\"Correlation Matrix\"},\"height\":650,\"width\":650},                        {\"responsive\": true}                    ).then(function(){\n                            \nvar gd = document.getElementById('878ea3a0-4fc7-4600-af19-58b670078edb');\nvar x = new MutationObserver(function (mutations, observer) {{\n        var display = window.getComputedStyle(gd).display;\n        if (!display || display === 'none') {{\n            console.log([gd, 'removed!']);\n            Plotly.purge(gd);\n            observer.disconnect();\n        }}\n}});\n\n// Listen for the removal of the full notebook cells\nvar notebookContainer = gd.closest('#notebook-container');\nif (notebookContainer) {{\n    x.observe(notebookContainer, {childList: true});\n}}\n\n// Listen for the clearing of the current output cell\nvar outputEl = gd.closest('.output');\nif (outputEl) {{\n    x.observe(outputEl, {childList: true});\n}}\n\n                        })                };                            </script>        </div>\n</body>\n</html>"
     },
     "execution_count": 40,
     "metadata": {
     },
     "output_type": "execute_result"
    }
   ],
   "source": [
    "fig = px.imshow(df.corr(),title=\"Correlation Matrix\",width=650,height=650)\n",
    "fig.update_xaxes(tickangle=-45)"
   ]
  },
  {
   "cell_type": "code",
   "execution_count": 41,
   "metadata": {
    "collapsed": false
   },
   "outputs": [
    {
     "data": {
      "text/html": "<html>\n<head><meta charset=\"utf-8\" /></head>\n<body>\n    <div>            <script src=\"https://cdnjs.cloudflare.com/ajax/libs/mathjax/2.7.5/MathJax.js?config=TeX-AMS-MML_SVG\"></script><script type=\"text/javascript\">if (window.MathJax) {MathJax.Hub.Config({SVG: {font: \"STIX-Web\"}});}</script>                <script type=\"text/javascript\">window.PlotlyConfig = {MathJaxConfig: 'local'};</script>\n        <script src=\"https://cdn.plot.ly/plotly-2.9.0.min.js\"></script>                <div id=\"3161e1e1-f64b-4e6b-bcaf-85a98ee2b277\" class=\"plotly-graph-div\" style=\"height:525px; width:100%;\"></div>            <script type=\"text/javascript\">                                    window.PLOTLYENV=window.PLOTLYENV || {};                                    if (document.getElementById(\"3161e1e1-f64b-4e6b-bcaf-85a98ee2b277\")) {                    Plotly.newPlot(                        \"3161e1e1-f64b-4e6b-bcaf-85a98ee2b277\",                        [{\"hovertemplate\":\"Gas Oil/Diesel Oil Export=%{x}<br>Natural Gas Production=%{y}<br>Natural Gas Export=%{marker.size}<br>Gas Oil/Diesel Oil Production=%{marker.color}<extra></extra>\",\"legendgroup\":\"\",\"marker\":{\"color\":[8700.0,8702.0,8794.0,9311.0,9748.0,10027.0,10727.0,11310.0,11580.0,10942.0,11337.0,11120.0,11091.0,11430.0,11590.0,10790.0,9466.0,9270.0,10201.0,10248.0,9836.0,10844.0,10388.0,10849.0,10422.0,9516.0,7525.0,7275.438,7706.446,7594.862],\"coloraxis\":\"coloraxis\",\"size\":[109300.0,185000.0,235400.0,276606.0,320737.0,384046.0,411650.0,401300.0,416151.0,425366.0,431027.0,409637.0,413421.0,425758.0,430514.0,576035.0,654390.0,779676.0,744095.0,839599.0,973333.0,1087265.0,1027814.0,1280421.0,1266420.0,1365964.0,2018675.0,2857996.0,3379860.0,4093912.0],\"sizemode\":\"area\",\"sizeref\":10234.78,\"symbol\":\"circle\"},\"mode\":\"markers\",\"name\":\"\",\"orientation\":\"v\",\"showlegend\":false,\"x\":[619.0,748.0,702.0,557.0,682.0,560.0,1016.0,1152.0,1103.0,1040.0,904.0,1080.0,801.0,888.0,736.0,309.0,353.0,243.0,390.0,302.0,158.0,99.0,109.0,77.0,51.0,64.0,44.0,88.906,72.563,94.766],\"xaxis\":\"x\",\"y\":[797340.0,829256.0,902611.0,970864.0,1046133.0,1162942.0,1193532.0,1188746.0,1235606.0,1279452.0,1327693.0,1354543.0,1411424.0,1377521.0,1385930.0,1458614.0,1678130.0,1780342.0,1854934.0,1944152.0,2069199.0,2216444.0,2122863.0,2511851.0,2578666.0,2706341.0,3216042.0,4106757.0,4707645.0,5486750.0],\"yaxis\":\"y\",\"type\":\"scatter\"}],                        {\"template\":{\"data\":{\"bar\":[{\"error_x\":{\"color\":\"#2a3f5f\"},\"error_y\":{\"color\":\"#2a3f5f\"},\"marker\":{\"line\":{\"color\":\"#E5ECF6\",\"width\":0.5},\"pattern\":{\"fillmode\":\"overlay\",\"size\":10,\"solidity\":0.2}},\"type\":\"bar\"}],\"barpolar\":[{\"marker\":{\"line\":{\"color\":\"#E5ECF6\",\"width\":0.5},\"pattern\":{\"fillmode\":\"overlay\",\"size\":10,\"solidity\":0.2}},\"type\":\"barpolar\"}],\"carpet\":[{\"aaxis\":{\"endlinecolor\":\"#2a3f5f\",\"gridcolor\":\"white\",\"linecolor\":\"white\",\"minorgridcolor\":\"white\",\"startlinecolor\":\"#2a3f5f\"},\"baxis\":{\"endlinecolor\":\"#2a3f5f\",\"gridcolor\":\"white\",\"linecolor\":\"white\",\"minorgridcolor\":\"white\",\"startlinecolor\":\"#2a3f5f\"},\"type\":\"carpet\"}],\"choropleth\":[{\"colorbar\":{\"outlinewidth\":0,\"ticks\":\"\"},\"type\":\"choropleth\"}],\"contour\":[{\"colorbar\":{\"outlinewidth\":0,\"ticks\":\"\"},\"colorscale\":[[0.0,\"#0d0887\"],[0.1111111111111111,\"#46039f\"],[0.2222222222222222,\"#7201a8\"],[0.3333333333333333,\"#9c179e\"],[0.4444444444444444,\"#bd3786\"],[0.5555555555555556,\"#d8576b\"],[0.6666666666666666,\"#ed7953\"],[0.7777777777777778,\"#fb9f3a\"],[0.8888888888888888,\"#fdca26\"],[1.0,\"#f0f921\"]],\"type\":\"contour\"}],\"contourcarpet\":[{\"colorbar\":{\"outlinewidth\":0,\"ticks\":\"\"},\"type\":\"contourcarpet\"}],\"heatmap\":[{\"colorbar\":{\"outlinewidth\":0,\"ticks\":\"\"},\"colorscale\":[[0.0,\"#0d0887\"],[0.1111111111111111,\"#46039f\"],[0.2222222222222222,\"#7201a8\"],[0.3333333333333333,\"#9c179e\"],[0.4444444444444444,\"#bd3786\"],[0.5555555555555556,\"#d8576b\"],[0.6666666666666666,\"#ed7953\"],[0.7777777777777778,\"#fb9f3a\"],[0.8888888888888888,\"#fdca26\"],[1.0,\"#f0f921\"]],\"type\":\"heatmap\"}],\"heatmapgl\":[{\"colorbar\":{\"outlinewidth\":0,\"ticks\":\"\"},\"colorscale\":[[0.0,\"#0d0887\"],[0.1111111111111111,\"#46039f\"],[0.2222222222222222,\"#7201a8\"],[0.3333333333333333,\"#9c179e\"],[0.4444444444444444,\"#bd3786\"],[0.5555555555555556,\"#d8576b\"],[0.6666666666666666,\"#ed7953\"],[0.7777777777777778,\"#fb9f3a\"],[0.8888888888888888,\"#fdca26\"],[1.0,\"#f0f921\"]],\"type\":\"heatmapgl\"}],\"histogram\":[{\"marker\":{\"pattern\":{\"fillmode\":\"overlay\",\"size\":10,\"solidity\":0.2}},\"type\":\"histogram\"}],\"histogram2d\":[{\"colorbar\":{\"outlinewidth\":0,\"ticks\":\"\"},\"colorscale\":[[0.0,\"#0d0887\"],[0.1111111111111111,\"#46039f\"],[0.2222222222222222,\"#7201a8\"],[0.3333333333333333,\"#9c179e\"],[0.4444444444444444,\"#bd3786\"],[0.5555555555555556,\"#d8576b\"],[0.6666666666666666,\"#ed7953\"],[0.7777777777777778,\"#fb9f3a\"],[0.8888888888888888,\"#fdca26\"],[1.0,\"#f0f921\"]],\"type\":\"histogram2d\"}],\"histogram2dcontour\":[{\"colorbar\":{\"outlinewidth\":0,\"ticks\":\"\"},\"colorscale\":[[0.0,\"#0d0887\"],[0.1111111111111111,\"#46039f\"],[0.2222222222222222,\"#7201a8\"],[0.3333333333333333,\"#9c179e\"],[0.4444444444444444,\"#bd3786\"],[0.5555555555555556,\"#d8576b\"],[0.6666666666666666,\"#ed7953\"],[0.7777777777777778,\"#fb9f3a\"],[0.8888888888888888,\"#fdca26\"],[1.0,\"#f0f921\"]],\"type\":\"histogram2dcontour\"}],\"mesh3d\":[{\"colorbar\":{\"outlinewidth\":0,\"ticks\":\"\"},\"type\":\"mesh3d\"}],\"parcoords\":[{\"line\":{\"colorbar\":{\"outlinewidth\":0,\"ticks\":\"\"}},\"type\":\"parcoords\"}],\"pie\":[{\"automargin\":true,\"type\":\"pie\"}],\"scatter\":[{\"marker\":{\"colorbar\":{\"outlinewidth\":0,\"ticks\":\"\"}},\"type\":\"scatter\"}],\"scatter3d\":[{\"line\":{\"colorbar\":{\"outlinewidth\":0,\"ticks\":\"\"}},\"marker\":{\"colorbar\":{\"outlinewidth\":0,\"ticks\":\"\"}},\"type\":\"scatter3d\"}],\"scattercarpet\":[{\"marker\":{\"colorbar\":{\"outlinewidth\":0,\"ticks\":\"\"}},\"type\":\"scattercarpet\"}],\"scattergeo\":[{\"marker\":{\"colorbar\":{\"outlinewidth\":0,\"ticks\":\"\"}},\"type\":\"scattergeo\"}],\"scattergl\":[{\"marker\":{\"colorbar\":{\"outlinewidth\":0,\"ticks\":\"\"}},\"type\":\"scattergl\"}],\"scattermapbox\":[{\"marker\":{\"colorbar\":{\"outlinewidth\":0,\"ticks\":\"\"}},\"type\":\"scattermapbox\"}],\"scatterpolar\":[{\"marker\":{\"colorbar\":{\"outlinewidth\":0,\"ticks\":\"\"}},\"type\":\"scatterpolar\"}],\"scatterpolargl\":[{\"marker\":{\"colorbar\":{\"outlinewidth\":0,\"ticks\":\"\"}},\"type\":\"scatterpolargl\"}],\"scatterternary\":[{\"marker\":{\"colorbar\":{\"outlinewidth\":0,\"ticks\":\"\"}},\"type\":\"scatterternary\"}],\"surface\":[{\"colorbar\":{\"outlinewidth\":0,\"ticks\":\"\"},\"colorscale\":[[0.0,\"#0d0887\"],[0.1111111111111111,\"#46039f\"],[0.2222222222222222,\"#7201a8\"],[0.3333333333333333,\"#9c179e\"],[0.4444444444444444,\"#bd3786\"],[0.5555555555555556,\"#d8576b\"],[0.6666666666666666,\"#ed7953\"],[0.7777777777777778,\"#fb9f3a\"],[0.8888888888888888,\"#fdca26\"],[1.0,\"#f0f921\"]],\"type\":\"surface\"}],\"table\":[{\"cells\":{\"fill\":{\"color\":\"#EBF0F8\"},\"line\":{\"color\":\"white\"}},\"header\":{\"fill\":{\"color\":\"#C8D4E3\"},\"line\":{\"color\":\"white\"}},\"type\":\"table\"}]},\"layout\":{\"annotationdefaults\":{\"arrowcolor\":\"#2a3f5f\",\"arrowhead\":0,\"arrowwidth\":1},\"autotypenumbers\":\"strict\",\"coloraxis\":{\"colorbar\":{\"outlinewidth\":0,\"ticks\":\"\"}},\"colorscale\":{\"diverging\":[[0,\"#8e0152\"],[0.1,\"#c51b7d\"],[0.2,\"#de77ae\"],[0.3,\"#f1b6da\"],[0.4,\"#fde0ef\"],[0.5,\"#f7f7f7\"],[0.6,\"#e6f5d0\"],[0.7,\"#b8e186\"],[0.8,\"#7fbc41\"],[0.9,\"#4d9221\"],[1,\"#276419\"]],\"sequential\":[[0.0,\"#0d0887\"],[0.1111111111111111,\"#46039f\"],[0.2222222222222222,\"#7201a8\"],[0.3333333333333333,\"#9c179e\"],[0.4444444444444444,\"#bd3786\"],[0.5555555555555556,\"#d8576b\"],[0.6666666666666666,\"#ed7953\"],[0.7777777777777778,\"#fb9f3a\"],[0.8888888888888888,\"#fdca26\"],[1.0,\"#f0f921\"]],\"sequentialminus\":[[0.0,\"#0d0887\"],[0.1111111111111111,\"#46039f\"],[0.2222222222222222,\"#7201a8\"],[0.3333333333333333,\"#9c179e\"],[0.4444444444444444,\"#bd3786\"],[0.5555555555555556,\"#d8576b\"],[0.6666666666666666,\"#ed7953\"],[0.7777777777777778,\"#fb9f3a\"],[0.8888888888888888,\"#fdca26\"],[1.0,\"#f0f921\"]]},\"colorway\":[\"#636efa\",\"#EF553B\",\"#00cc96\",\"#ab63fa\",\"#FFA15A\",\"#19d3f3\",\"#FF6692\",\"#B6E880\",\"#FF97FF\",\"#FECB52\"],\"font\":{\"color\":\"#2a3f5f\"},\"geo\":{\"bgcolor\":\"white\",\"lakecolor\":\"white\",\"landcolor\":\"#E5ECF6\",\"showlakes\":true,\"showland\":true,\"subunitcolor\":\"white\"},\"hoverlabel\":{\"align\":\"left\"},\"hovermode\":\"closest\",\"mapbox\":{\"style\":\"light\"},\"paper_bgcolor\":\"white\",\"plot_bgcolor\":\"#E5ECF6\",\"polar\":{\"angularaxis\":{\"gridcolor\":\"white\",\"linecolor\":\"white\",\"ticks\":\"\"},\"bgcolor\":\"#E5ECF6\",\"radialaxis\":{\"gridcolor\":\"white\",\"linecolor\":\"white\",\"ticks\":\"\"}},\"scene\":{\"xaxis\":{\"backgroundcolor\":\"#E5ECF6\",\"gridcolor\":\"white\",\"gridwidth\":2,\"linecolor\":\"white\",\"showbackground\":true,\"ticks\":\"\",\"zerolinecolor\":\"white\"},\"yaxis\":{\"backgroundcolor\":\"#E5ECF6\",\"gridcolor\":\"white\",\"gridwidth\":2,\"linecolor\":\"white\",\"showbackground\":true,\"ticks\":\"\",\"zerolinecolor\":\"white\"},\"zaxis\":{\"backgroundcolor\":\"#E5ECF6\",\"gridcolor\":\"white\",\"gridwidth\":2,\"linecolor\":\"white\",\"showbackground\":true,\"ticks\":\"\",\"zerolinecolor\":\"white\"}},\"shapedefaults\":{\"line\":{\"color\":\"#2a3f5f\"}},\"ternary\":{\"aaxis\":{\"gridcolor\":\"white\",\"linecolor\":\"white\",\"ticks\":\"\"},\"baxis\":{\"gridcolor\":\"white\",\"linecolor\":\"white\",\"ticks\":\"\"},\"bgcolor\":\"#E5ECF6\",\"caxis\":{\"gridcolor\":\"white\",\"linecolor\":\"white\",\"ticks\":\"\"}},\"title\":{\"x\":0.05},\"xaxis\":{\"automargin\":true,\"gridcolor\":\"white\",\"linecolor\":\"white\",\"ticks\":\"\",\"title\":{\"standoff\":15},\"zerolinecolor\":\"white\",\"zerolinewidth\":2},\"yaxis\":{\"automargin\":true,\"gridcolor\":\"white\",\"linecolor\":\"white\",\"ticks\":\"\",\"title\":{\"standoff\":15},\"zerolinecolor\":\"white\",\"zerolinewidth\":2}}},\"xaxis\":{\"anchor\":\"y\",\"domain\":[0.0,1.0],\"title\":{\"text\":\"Gas Oil/Diesel Oil Export\"}},\"yaxis\":{\"anchor\":\"x\",\"domain\":[0.0,1.0],\"title\":{\"text\":\"Natural Gas Production\"}},\"coloraxis\":{\"colorbar\":{\"title\":{\"text\":\"Gas Oil/Diesel Oil Production\"}},\"colorscale\":[[0.0,\"#0d0887\"],[0.1111111111111111,\"#46039f\"],[0.2222222222222222,\"#7201a8\"],[0.3333333333333333,\"#9c179e\"],[0.4444444444444444,\"#bd3786\"],[0.5555555555555556,\"#d8576b\"],[0.6666666666666666,\"#ed7953\"],[0.7777777777777778,\"#fb9f3a\"],[0.8888888888888888,\"#fdca26\"],[1.0,\"#f0f921\"]]},\"legend\":{\"tracegroupgap\":0,\"itemsizing\":\"constant\"},\"title\":{\"text\":\"Australian Energy Exporting and Production\"}},                        {\"responsive\": true}                    ).then(function(){\n                            \nvar gd = document.getElementById('3161e1e1-f64b-4e6b-bcaf-85a98ee2b277');\nvar x = new MutationObserver(function (mutations, observer) {{\n        var display = window.getComputedStyle(gd).display;\n        if (!display || display === 'none') {{\n            console.log([gd, 'removed!']);\n            Plotly.purge(gd);\n            observer.disconnect();\n        }}\n}});\n\n// Listen for the removal of the full notebook cells\nvar notebookContainer = gd.closest('#notebook-container');\nif (notebookContainer) {{\n    x.observe(notebookContainer, {childList: true});\n}}\n\n// Listen for the clearing of the current output cell\nvar outputEl = gd.closest('.output');\nif (outputEl) {{\n    x.observe(outputEl, {childList: true});\n}}\n\n                        })                };                            </script>        </div>\n</body>\n</html>"
     },
     "execution_count": 41,
     "metadata": {
     },
     "output_type": "execute_result"
    }
   ],
   "source": [
    "fig = px.scatter(df, x = \"Gas Oil/Diesel Oil Export\",  y = \"Natural Gas Production\", size = \"Natural Gas Export\", color = \"Gas Oil/Diesel Oil Production\", title = 'Australian Energy Exporting and Production' )\n",
    "fig.show()"
   ]
  },
  {
   "cell_type": "code",
   "execution_count": 0,
   "metadata": {
    "collapsed": false
   },
   "outputs": [
   ],
   "source": [
   ]
  }
 ],
 "metadata": {
  "kernelspec": {
   "display_name": "Python (ds_env)",
   "language": "python",
   "metadata": {
    "debugger": true
   },
   "name": "ds_env",
   "resource_dir": "/projects/39b268b1-0e75-4ebd-9cf2-691243b37f4a/.local/share/jupyter/kernels/ds_env"
  },
  "language_info": {
   "codemirror_mode": {
    "name": "ipython",
    "version": 3
   },
   "file_extension": ".py",
   "mimetype": "text/x-python",
   "name": "python",
   "nbconvert_exporter": "python",
   "pygments_lexer": "ipython3",
   "version": "3.8.13"
  }
 },
 "nbformat": 4,
 "nbformat_minor": 4
}